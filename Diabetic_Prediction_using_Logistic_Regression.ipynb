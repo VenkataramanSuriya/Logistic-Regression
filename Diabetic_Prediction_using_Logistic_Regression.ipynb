{
  "nbformat": 4,
  "nbformat_minor": 0,
  "metadata": {
    "colab": {
      "provenance": [],
      "authorship_tag": "ABX9TyN6jx7ZGKGUPDR4Jgl8USKk",
      "include_colab_link": true
    },
    "kernelspec": {
      "name": "python3",
      "display_name": "Python 3"
    },
    "language_info": {
      "name": "python"
    }
  },
  "cells": [
    {
      "cell_type": "markdown",
      "metadata": {
        "id": "view-in-github",
        "colab_type": "text"
      },
      "source": [
        "<a href=\"https://colab.research.google.com/github/VenkataramanSuriya/Logistic-Regression/blob/main/Diabetic_Prediction_using_Logistic_Regression.ipynb\" target=\"_parent\"><img src=\"https://colab.research.google.com/assets/colab-badge.svg\" alt=\"Open In Colab\"/></a>"
      ]
    },
    {
      "cell_type": "code",
      "execution_count": null,
      "metadata": {
        "id": "W5Pa_fIp_fsw"
      },
      "outputs": [],
      "source": [
        "import numpy as np\n",
        "import pandas as pd\n",
        "from sklearn.preprocessing import StandardScaler\n",
        "from sklearn.model_selection import train_test_split\n",
        "from sklearn.linear_model import LogisticRegression\n",
        "from sklearn.metrics import accuracy_score\n",
        "diabetes_dataset=pd.read_csv('/diabetes_prediction_dataset.csv')\n",
        "diabetes_dataset.head()\n",
        "diabetes_dataset = pd.DataFrame(diabetes_dataset)\n",
        "print(diabetes_dataset)\n",
        "diabetes_dataset= pd.get_dummies(diabetes_dataset, columns=['gender'], drop_first=True)\n",
        "diabetes_dataset = pd.get_dummies(diabetes_dataset, columns=['smoking_history'], prefix='smoking', drop_first=True)\n",
        "print(diabetes_dataset.dtypes)\n",
        "print(diabetes_dataset)\n",
        "diabetes_dataset.shape\n",
        "diabetes_dataset.head()\n",
        "diabetes_dataset.describe()\n",
        "diabetes_dataset['diabetes'].value_counts()\n",
        "diabetes_dataset.groupby('diabetes').mean()\n",
        "x=diabetes_dataset.drop(columns='diabetes',axis=1)\n",
        "y=diabetes_dataset['diabetes']\n",
        "x.head()\n",
        "print(x)\n",
        "print(y)\n",
        "scaler=StandardScaler()\n",
        "scaler.fit(x)\n",
        "standardized_data=scaler.transform(x)\n",
        "print(standardized_data)\n",
        "x=standardized_data\n",
        "y=diabetes_dataset['diabetes']\n",
        "x_train, x_test, y_train, y_test = train_test_split(x,y, test_size=0.2, stratify=y, random_state=2)\n",
        "print(x.shape, x_train.shape, x_test.shape)\n",
        "classifier = LogisticRegression()\n",
        "classifier.fit(x_train, y_train)\n",
        "x_train_prediction=classifier.predict(x_train)\n",
        "training_data_accuracy=accuracy_score(x_train_prediction, y_train)\n",
        "print(\"accuracy svore of training data :\",training_data_accuracy)\n",
        "x_test_prediction=classifier.predict(x_test)\n",
        "test_data_accuracy=accuracy_score(x_test_prediction, y_test)\n",
        "print(\"the accuracy score of test data is ;\",test_data_accuracy)\n",
        "\n"
      ]
    }
  ]
}